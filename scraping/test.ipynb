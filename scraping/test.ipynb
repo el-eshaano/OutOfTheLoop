{
 "cells": [
  {
   "cell_type": "code",
   "execution_count": 76,
   "metadata": {},
   "outputs": [],
   "source": [
    "import feedparser\n",
    "import re\n",
    "import pprint"
   ]
  },
  {
   "cell_type": "code",
   "execution_count": 51,
   "metadata": {},
   "outputs": [],
   "source": [
    "feed_url = '/home/eshaan/Projects/OOtL/reuters_test.xml'\n",
    "feeds = feedparser.parse(feed_url)"
   ]
  },
  {
   "cell_type": "code",
   "execution_count": 89,
   "metadata": {},
   "outputs": [],
   "source": [
    "regex_pattern = re.compile(r'''<strong>\\s*<a\\s+href=[\"']([^\"']+)[\"']|<a\\s+href=[\"']([^\"']+)[\"']\\s*>\\s*<strong>''')\n",
    "parse_reuters_entry = lambda entry: (lambda match: match.group(1) if match.group(1) else match.group(2))(regex_pattern.search(entry['content'][0]['value']))\n",
    "parse_reuters_feed = lambda feed: {entry['title']: parse_reuters_entry(entry) for entry in feed['entries']}"
   ]
  },
  {
   "cell_type": "code",
   "execution_count": 90,
   "metadata": {},
   "outputs": [
    {
     "name": "stdout",
     "output_type": "stream",
     "text": [
      "{'India races to build power plants in region claimed by China': 'https://www.reuters.com/world/asia-pacific/india-races-build-power-plants-region-claimed-by-china-sources-say-2024-07-09/?n=@',\n",
      " 'US to target Russia with more sanctions': 'https://www.reuters.com/world/us-impose-sanctions-over-500-targets-russia-action-friday-2024-02-22/',\n",
      " 'Putin’s suggestion of Ukraine ceasefire rejected by United States, sources say': 'https://www.reuters.com/world/europe/putins-suggestion-ukraine-ceasefire-rejected-by-united-states-sources-say-2024-02-13/',\n",
      " 'US Justice Department probing ADM accounting practices -sources': 'https://www.reuters.com/legal/us-justice-department-is-probing-adms-accounting-practices-sources-2024-02-05/',\n",
      " 'In Russia, anti-war candidate tries to harness protest vote against Putin': 'https://www.reuters.com/world/europe/russia-anti-war-candidate-tries-harness-protest-vote-against-putin-2024-01-24/',\n",
      " 'US-Saudi defence pact tied to Israel deal, Palestinian demands put aside': 'https://www.reuters.com/world/us-saudi-defence-pact-tied-israel-deal-palestinian-demands-put-aside-2023-09-29/',\n",
      " 'Fed keeps rates steady, toughens policy stance as ‘soft landing’ hopes grow': 'https://www.reuters.com/markets/rates-bonds/fed-projections-show-if-soft-landing-is-new-baseline-or-baseless-2023-09-20/',\n",
      " 'Chinese defence minister under investigation for corrupt procurement': 'https://www.reuters.com/world/china/us-diplomat-questions-whether-chinese-defence-minister-under-house-arrest-2023-09-15/',\n",
      " 'Biden administration moving to escalate energy trade dispute with Mexico': 'https://www.reuters.com/business/energy/biden-administration-moving-escalate-energy-trade-dispute-with-mexico-2023-09-06/',\n",
      " 'Trump pleads not guilty in federal documents case': 'https://www.reuters.com/legal/trump-face-charges-florida-court-classified-documents-case-2023-06-13/#:~:text=MIAMI%2C%20June%2013%20(Reuters),who%20sought%20to%20recover%20them.'}\n"
     ]
    }
   ],
   "source": [
    "pprint.pp(parse_reuters_feed(feeds))"
   ]
  },
  {
   "cell_type": "code",
   "execution_count": null,
   "metadata": {},
   "outputs": [],
   "source": []
  }
 ],
 "metadata": {
  "kernelspec": {
   "display_name": "venv",
   "language": "python",
   "name": "python3"
  },
  "language_info": {
   "codemirror_mode": {
    "name": "ipython",
    "version": 3
   },
   "file_extension": ".py",
   "mimetype": "text/x-python",
   "name": "python",
   "nbconvert_exporter": "python",
   "pygments_lexer": "ipython3",
   "version": "3.10.12"
  }
 },
 "nbformat": 4,
 "nbformat_minor": 2
}
